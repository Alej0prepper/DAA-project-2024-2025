{
 "cells": [
  {
   "cell_type": "code",
   "execution_count": 5,
   "metadata": {
    "vscode": {
     "languageId": "shellscript"
    }
   },
   "outputs": [
    {
     "name": "stdout",
     "output_type": "stream",
     "text": [
      "Requirement already satisfied: pip in /home/francois/.local/share/virtualenvs/francois-p56qkXq5/lib/python3.10/site-packages (23.2.1)\n",
      "Collecting pip\n",
      "  Obtaining dependency information for pip from https://files.pythonhosted.org/packages/c9/bc/b7db44f5f39f9d0494071bddae6880eb645970366d0a200022a1a93d57f5/pip-25.0.1-py3-none-any.whl.metadata\n",
      "  Downloading pip-25.0.1-py3-none-any.whl.metadata (3.7 kB)\n",
      "Downloading pip-25.0.1-py3-none-any.whl (1.8 MB)\n",
      "\u001b[2K   \u001b[38;2;114;156;31m━━━━━━━━━━━━━━━━━━━━━━━━━━━━━━━━━━━━━━━━\u001b[0m \u001b[32m1.8/1.8 MB\u001b[0m \u001b[31m301.6 kB/s\u001b[0m eta \u001b[36m0:00:00\u001b[0mm eta \u001b[36m0:00:01\u001b[0m[36m0:00:01\u001b[0m\n",
      "\u001b[?25hInstalling collected packages: pip\n",
      "  Attempting uninstall: pip\n",
      "    Found existing installation: pip 23.2.1\n",
      "    Uninstalling pip-23.2.1:\n",
      "      Successfully uninstalled pip-23.2.1\n",
      "Successfully installed pip-25.0.1\n",
      "Note: you may need to restart the kernel to use updated packages.\n"
     ]
    }
   ],
   "source": [
    "pip install --upgrade pip"
   ]
  },
  {
   "cell_type": "code",
   "execution_count": 6,
   "metadata": {
    "vscode": {
     "languageId": "shellscript"
    }
   },
   "outputs": [
    {
     "name": "stdout",
     "output_type": "stream",
     "text": [
      "Requirement already satisfied: networkx in /home/francois/.local/share/virtualenvs/francois-p56qkXq5/lib/python3.10/site-packages (3.4.2)\n",
      "Note: you may need to restart the kernel to use updated packages.\n"
     ]
    }
   ],
   "source": [
    "pip install networkx"
   ]
  },
  {
   "cell_type": "code",
   "execution_count": 7,
   "metadata": {
    "vscode": {
     "languageId": "shellscript"
    }
   },
   "outputs": [
    {
     "name": "stdout",
     "output_type": "stream",
     "text": [
      "Requirement already satisfied: numpy in /home/francois/.local/share/virtualenvs/francois-p56qkXq5/lib/python3.10/site-packages (2.2.2)\n",
      "Note: you may need to restart the kernel to use updated packages.\n"
     ]
    }
   ],
   "source": [
    "pip install numpy"
   ]
  },
  {
   "cell_type": "code",
   "execution_count": null,
   "metadata": {},
   "outputs": [
    {
     "name": "stdout",
     "output_type": "stream",
     "text": [
      "Test 1: Agreement 92.31%, Disagreement 7.69%\n",
      "\n",
      "Test 2: Agreement 91.43%, Disagreement 8.57%\n",
      "\n",
      "Test 3: Agreement 76.00%, Disagreement 24.00%\n",
      "\n",
      "Test 4: Agreement 80.77%, Disagreement 19.23%\n",
      "\n",
      "Test 5: Agreement 88.00%, Disagreement 12.00%\n",
      "\n",
      "Test 6: Agreement 74.07%, Disagreement 25.93%\n",
      "\n",
      "Test 7: Agreement 82.14%, Disagreement 17.86%\n",
      "\n",
      "Test 8: Agreement 90.91%, Disagreement 9.09%\n",
      "\n",
      "Test 9: Agreement 94.44%, Disagreement 5.56%\n",
      "\n"
     ]
    }
   ],
   "source": [
    "import networkx as nx\n",
    "import random\n",
    "import numpy as np\n",
    "from aristas import comparar_subgrafos\n",
    "from ullman_algorithm import ullman_algorithm\n",
    "\n",
    "def generate_random_graph(n, m):\n",
    "    \"\"\"Generate a random graph with n nodes and m edges.\"\"\"\n",
    "    if m > n * (n - 1) // 2:\n",
    "        raise ValueError(\"The number of edges m is too large for the number of nodes n.\")\n",
    "    \n",
    "    G = nx.Graph()\n",
    "    G.add_nodes_from(range(n))\n",
    "    edges = set()\n",
    "    while len(edges) < m:\n",
    "        u = random.randint(0, n - 1)\n",
    "        v = random.randint(0, n - 1)\n",
    "        if u != v:\n",
    "            edges.add(tuple(sorted([u, v])))\n",
    "    \n",
    "    G.add_edges_from(edges)\n",
    "    return G\n",
    "\n",
    "def compare_isomorphisms(G1, G2):\n",
    "    \"\"\"Compare isomorphism results from Ullman and edge verification methods.\"\"\"\n",
    "    if len(G1.nodes) == 0 or len(G2.nodes) == 0:\n",
    "        return None\n",
    "    if len(G1.nodes) > len(G2.nodes):\n",
    "        return None\n",
    "    \n",
    "    G1_adj = nx.to_numpy_array(G1)\n",
    "    G2_adj = nx.to_numpy_array(G2)\n",
    "    \n",
    "    ullman_result = ullman_algorithm(G1_adj, G2_adj)\n",
    "    edge_verification_result = comparar_subgrafos(G1_adj, G2_adj)\n",
    "\n",
    "    return ullman_result == edge_verification_result\n",
    "\n",
    "def run_tests(num_tests, num_graphs, max_nodes, max_edges, results_filename):\n",
    "    \"\"\"Run multiple tests and save results.\"\"\"\n",
    "    agreements_list = []\n",
    "    disagreements_list = []\n",
    "    \n",
    "    with open(results_filename, 'w') as results_file:\n",
    "        for test in range(num_tests):\n",
    "            graphs = []\n",
    "            for _ in range(num_graphs):\n",
    "                # Generate a random number of nodes between 1 and max_nodes\n",
    "                n = random.randint(1, max_nodes)\n",
    "                # For a single node, there are no edges possible\n",
    "                if n == 1:\n",
    "                    m = 0\n",
    "                else:\n",
    "                    max_possible_edges = n * (n - 1) // 2\n",
    "                    m = random.randint(1, min(max_edges, max_possible_edges))\n",
    "                graphs.append(generate_random_graph(n, m))\n",
    "            \n",
    "            total_comparisons = 0\n",
    "            agreements = 0\n",
    "            disagreements = 0\n",
    "            \n",
    "            for i in range(num_graphs):\n",
    "                for j in range(i + 1, num_graphs):\n",
    "                    result = compare_isomorphisms(graphs[i], graphs[j])\n",
    "                    if result is not None:\n",
    "                        total_comparisons += 1\n",
    "                        if result:\n",
    "                            agreements += 1\n",
    "                        else:\n",
    "                            disagreements += 1\n",
    "            \n",
    "            agreement_percentage = (agreements / total_comparisons) * 100 if total_comparisons > 0 else 0\n",
    "            disagreement_percentage = (disagreements / total_comparisons) * 100 if total_comparisons > 0 else 0\n",
    "            \n",
    "            agreements_list.append(agreement_percentage)\n",
    "            disagreements_list.append(disagreement_percentage)\n",
    "            \n",
    "            results_file.write(f\"Test {test+1}: Agreement {agreement_percentage:.2f}%, Disagreement {disagreement_percentage:.2f}%\\n\")\n",
    "            print(f\"Test {test+1}: Agreement {agreement_percentage:.2f}%, Disagreement {disagreement_percentage:.2f}%\\n\")\n",
    "    \n",
    "    mean_agreement = np.mean(agreements_list)\n",
    "    mean_disagreement = np.mean(disagreements_list)\n",
    "    \n",
    "    print(f\"\\nMean Agreement: {mean_agreement:.2f}%\")\n",
    "    print(f\"Mean Disagreement: {mean_disagreement:.2f}%\")\n",
    "    \n",
    "run_tests(num_tests=50, num_graphs=10, max_nodes=6, max_edges=90, results_filename=\"isomorphism_results.txt\")\n"
   ]
  }
 ],
 "metadata": {
  "kernelspec": {
   "display_name": "francois-p56qkXq5",
   "language": "python",
   "name": "python3"
  },
  "language_info": {
   "codemirror_mode": {
    "name": "ipython",
    "version": 3
   },
   "file_extension": ".py",
   "mimetype": "text/x-python",
   "name": "python",
   "nbconvert_exporter": "python",
   "pygments_lexer": "ipython3",
   "version": "3.10.12"
  }
 },
 "nbformat": 4,
 "nbformat_minor": 2
}
